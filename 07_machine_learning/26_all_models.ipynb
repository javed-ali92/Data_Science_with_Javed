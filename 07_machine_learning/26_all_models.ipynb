{
 "cells": [
  {
   "cell_type": "markdown",
   "metadata": {},
   "source": [
    "### Important Models\n",
    "\n",
    "#### Category of Algorithm\n",
    "\n",
    "_**Supervised Learning**_\n",
    "\n",
    " Linear Regression, Multiple Linear Regression, Polynomial Regression, Ridge Regression, Lasso Regression, Elastic Net, Logistic Regression, Decision Trees, Random Forest, Gradient Boosting, XGBoost, LightGBM, CatBoost, Naive Bayes, Support Vector Machines (SVM), k-Nearest Neighbors (k-NN), Linear Discriminant Analysis, Quadratic Discriminant Analysis\n",
    "\n",
    "_**Unsupervised Learning**_\n",
    "\n",
    "K-Means Clustering, Hierarchical Clustering, DBSCAN, Principal Component Analysis (PCA), Singular Value Decomposition (SVD), Gaussian Mixture Models, Self-Organizing Maps\n",
    "\n",
    "_**Reinforcement Learning**_\n",
    "\n",
    "Q-Learning, SARSA (State-Action-Reward-State-Action), Deep Q Network (DQN), Policy Gradients, Actor-Critic Methods, Monte Carlo Methods\n",
    "\n",
    "_**Neural Networks and Deep Learning**_\n",
    "\n",
    "Perceptron, Multi-layer Perceptrons (MLP), Convolutional Neural Networks (CNNs), Recurrent Neural Networks (RNNs), Long Short-Term Memory Networks (LSTMs), Generative Adversarial Networks (GANs), Transformer Networks, Autoencoders\n",
    "\n",
    "_**Ensemble Methods**_\t\n",
    "\n",
    "Bagging, Boosting, Stacking, Random Forest, Gradient Boosting Machines (GBM), AdaBoost, XGBoost, LightGBM, CatBoost\n",
    "\n",
    "_**Dimensionality Reduction**_\n",
    "\n",
    "Principal Component Analysis (PCA), Linear Discriminant Analysis (LDA), t-Distributed Stochastic Neighbor Embedding (t-SNE), Uniform Manifold Approximation and Projection (UMAP)"
   ]
  }
 ],
 "metadata": {
  "language_info": {
   "name": "python"
  }
 },
 "nbformat": 4,
 "nbformat_minor": 2
}
