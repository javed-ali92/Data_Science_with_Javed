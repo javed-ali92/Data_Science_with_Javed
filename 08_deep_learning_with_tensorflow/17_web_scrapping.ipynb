{
 "cells": [
  {
   "cell_type": "code",
   "execution_count": 6,
   "metadata": {},
   "outputs": [
    {
     "name": "stdout",
     "output_type": "stream",
     "text": [
      "<title>World population - Wikipedia</title>\n",
      "World population - Wikipedia\n"
     ]
    },
    {
     "data": {
      "text/html": [
       "<div>\n",
       "<style scoped>\n",
       "    .dataframe tbody tr th:only-of-type {\n",
       "        vertical-align: middle;\n",
       "    }\n",
       "\n",
       "    .dataframe tbody tr th {\n",
       "        vertical-align: top;\n",
       "    }\n",
       "\n",
       "    .dataframe thead th {\n",
       "        text-align: right;\n",
       "    }\n",
       "</style>\n",
       "<table border=\"1\" class=\"dataframe\">\n",
       "  <thead>\n",
       "    <tr style=\"text-align: right;\">\n",
       "      <th></th>\n",
       "      <th>0</th>\n",
       "      <th>1</th>\n",
       "      <th>2</th>\n",
       "      <th>3</th>\n",
       "    </tr>\n",
       "  </thead>\n",
       "  <tbody>\n",
       "    <tr>\n",
       "      <th>0</th>\n",
       "      <td>Sub-Saharan Africa</td>\n",
       "      <td>1,152 (14.51%)</td>\n",
       "      <td>1,401 (16.46%)</td>\n",
       "      <td>2,094 (21.62%)</td>\n",
       "    </tr>\n",
       "    <tr>\n",
       "      <th>1</th>\n",
       "      <td>Northern Africa and Western Asia</td>\n",
       "      <td>549 (6.91%)</td>\n",
       "      <td>617 (7.25%)</td>\n",
       "      <td>771 (7.96%)</td>\n",
       "    </tr>\n",
       "    <tr>\n",
       "      <th>2</th>\n",
       "      <td>Central Asia and Southern Asia</td>\n",
       "      <td>2,075 (26.13%)</td>\n",
       "      <td>2,248 (26.41%)</td>\n",
       "      <td>2,575 (26.58%)</td>\n",
       "    </tr>\n",
       "    <tr>\n",
       "      <th>3</th>\n",
       "      <td>Eastern Asia and Southeastern Asia</td>\n",
       "      <td>2,342 (29.49%)</td>\n",
       "      <td>2,372 (27.87%)</td>\n",
       "      <td>2,317 (23.92%)</td>\n",
       "    </tr>\n",
       "    <tr>\n",
       "      <th>4</th>\n",
       "      <td>Europe and Northern America</td>\n",
       "      <td>1,120 (14.10%)</td>\n",
       "      <td>1,129 (13.26%)</td>\n",
       "      <td>1,125 (11.61%)</td>\n",
       "    </tr>\n",
       "  </tbody>\n",
       "</table>\n",
       "</div>"
      ],
      "text/plain": [
       "                                    0               1               2  \\\n",
       "0                  Sub-Saharan Africa  1,152 (14.51%)  1,401 (16.46%)   \n",
       "1    Northern Africa and Western Asia     549 (6.91%)     617 (7.25%)   \n",
       "2      Central Asia and Southern Asia  2,075 (26.13%)  2,248 (26.41%)   \n",
       "3  Eastern Asia and Southeastern Asia  2,342 (29.49%)  2,372 (27.87%)   \n",
       "4         Europe and Northern America  1,120 (14.10%)  1,129 (13.26%)   \n",
       "\n",
       "                3  \n",
       "0  2,094 (21.62%)  \n",
       "1     771 (7.96%)  \n",
       "2  2,575 (26.58%)  \n",
       "3  2,317 (23.92%)  \n",
       "4  1,125 (11.61%)  "
      ]
     },
     "execution_count": 6,
     "metadata": {},
     "output_type": "execute_result"
    }
   ],
   "source": [
    "import requests\n",
    "from  bs4 import BeautifulSoup \n",
    "import pandas as pd\n",
    "\n",
    "url = \"https://en.wikipedia.org/wiki/World_population\"\n",
    "\n",
    "response = requests.get(url)\n",
    "\n",
    "soup = BeautifulSoup(response.content, \"html.parser\")\n",
    "\n",
    "print(soup.title)\n",
    "print(soup.title.text)\n",
    "\n",
    "# print(soup.prettify()) # print the whole html code\n",
    "\n",
    "# find all the tables\n",
    "\n",
    "tables = soup.find_all(\"table\")\n",
    "\n",
    "dataframe = [] # empty list\n",
    "\n",
    "for i, table in enumerate(tables):\n",
    "    rows = table.find_all(\"tr\")[1:] # skip the first row\n",
    "    data = [] # empty list\n",
    "    for row in rows:\n",
    "        cols = row.find_all(\"td\")\n",
    "        cols = [col.text.strip() for col in cols]\n",
    "        data.append(cols)\n",
    "    df = pd.DataFrame(data)\n",
    "    dataframe.append(df)\n",
    "dataframe[1].head()\n",
    "# dataframe[1].to_csv(\"world_population.csv\", index=False, header=True)"
   ]
  },
  {
   "cell_type": "code",
   "execution_count": 7,
   "metadata": {},
   "outputs": [
    {
     "data": {
      "text/plain": [
       "'GeeksforGeeks | A computer science portal for geeks'"
      ]
     },
     "execution_count": 7,
     "metadata": {},
     "output_type": "execute_result"
    }
   ],
   "source": [
    "import requests\n",
    "from bs4 import BeautifulSoup\n",
    "\n",
    "\n",
    "req = requests.get(\"https://www.geeksforgeeks.org/\")\n",
    "\n",
    "soup = BeautifulSoup(req.content, 'html.parser')\n",
    "\n",
    "# print(soup.title) #title tag\n",
    "# print(soup.p) #p tag\n",
    "# print(soup.text) #text\n",
    "\n",
    "# print(soup.prettify())\n",
    "\n",
    "soup.title.get_text()"
   ]
  },
  {
   "cell_type": "code",
   "execution_count": 8,
   "metadata": {},
   "outputs": [
    {
     "ename": "AttributeError",
     "evalue": "'NoneType' object has no attribute 'find_all'",
     "output_type": "error",
     "traceback": [
      "\u001b[1;31m---------------------------------------------------------------------------\u001b[0m",
      "\u001b[1;31mAttributeError\u001b[0m                            Traceback (most recent call last)",
      "Cell \u001b[1;32mIn[8], line 15\u001b[0m\n\u001b[0;32m     11\u001b[0m table \u001b[38;5;241m=\u001b[39m soup\u001b[38;5;241m.\u001b[39mfind(\u001b[38;5;124m'\u001b[39m\u001b[38;5;124mtable\u001b[39m\u001b[38;5;124m'\u001b[39m, {\u001b[38;5;124m'\u001b[39m\u001b[38;5;124mclass\u001b[39m\u001b[38;5;124m'\u001b[39m: \u001b[38;5;124m'\u001b[39m\u001b[38;5;124mwikitable sortable\u001b[39m\u001b[38;5;124m'\u001b[39m})\n\u001b[0;32m     14\u001b[0m \u001b[38;5;66;03m# Find all the rows in the table\u001b[39;00m\n\u001b[1;32m---> 15\u001b[0m rows \u001b[38;5;241m=\u001b[39m \u001b[43mtable\u001b[49m\u001b[38;5;241;43m.\u001b[39;49m\u001b[43mfind_all\u001b[49m(\u001b[38;5;124m'\u001b[39m\u001b[38;5;124mtr\u001b[39m\u001b[38;5;124m'\u001b[39m)\n\u001b[0;32m     17\u001b[0m \u001b[38;5;66;03m# Loop through each row and extract the data\u001b[39;00m\n\u001b[0;32m     18\u001b[0m \u001b[38;5;28;01mfor\u001b[39;00m row \u001b[38;5;129;01min\u001b[39;00m rows:\n\u001b[0;32m     19\u001b[0m     \u001b[38;5;66;03m# Find all the cells in the row\u001b[39;00m\n",
      "\u001b[1;31mAttributeError\u001b[0m: 'NoneType' object has no attribute 'find_all'"
     ]
    }
   ],
   "source": [
    "import requests\n",
    "from bs4 import BeautifulSoup\n",
    "\n",
    "# Send a GET request to the Wikipedia page\n",
    "req = requests.get(\"https://en.wikipedia.org/wiki/List_of_countries_and_dependencies_by_population\")\n",
    "\n",
    "# Parse the HTML content using BeautifulSoup\n",
    "soup = BeautifulSoup(req.content, 'html.parser')\n",
    "\n",
    "# Find the table containing the population data\n",
    "table = soup.find('table', {'class': 'wikitable sortable'})\n",
    "\n",
    "\n",
    "# Find all the rows in the table\n",
    "rows = table.find_all('tr')\n",
    "\n",
    "# Loop through each row and extract the data\n",
    "for row in rows:\n",
    "    # Find all the cells in the row\n",
    "    cells = row.find_all('td')\n",
    "    \n",
    "    # Extract the data from the cells\n",
    "    if len(cells) > 1:\n",
    "        rank = cells[0].text.strip()\n",
    "        country = cells[1].text.strip()\n",
    "        population = cells[2].text.strip()\n",
    "        \n",
    "        # Print the data\n",
    "        print(f'{rank}\\t{country}\\t{population}')\n",
    "\n",
    "        table = soup.find('table', {'class': 'wikitable sortable'})\n",
    "\n",
    "# Check if table is not None before accessing its contents\n",
    "if table is not None:\n",
    "    rows = table.find_all('tr')\n",
    "\n",
    "    # Loop through each row and extract the data\n",
    "    for row in rows:\n",
    "        # Find all the cells in the row\n",
    "        cells = row.find_all('td')\n",
    "        # Process the cell data as needed\n",
    "        for cell in cells:\n",
    "            # Do something with the cell data\n",
    "            pass\n",
    "else:\n",
    "    print(\"Table not found.\")"
   ]
  }
 ],
 "metadata": {
  "kernelspec": {
   "display_name": "webscrapping",
   "language": "python",
   "name": "python3"
  },
  "language_info": {
   "codemirror_mode": {
    "name": "ipython",
    "version": 3
   },
   "file_extension": ".py",
   "mimetype": "text/x-python",
   "name": "python",
   "nbconvert_exporter": "python",
   "pygments_lexer": "ipython3",
   "version": "3.11.3"
  }
 },
 "nbformat": 4,
 "nbformat_minor": 2
}
